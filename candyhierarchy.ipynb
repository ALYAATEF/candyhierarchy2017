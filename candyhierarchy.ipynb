{
 "cells": [
  {
   "cell_type": "markdown",
   "id": "8e272793",
   "metadata": {},
   "source": [
    "###### Table of Contents\n",
    "* Introduction\n",
    "* cleaning"
   ]
  },
  {
   "cell_type": "markdown",
   "id": "4f715f31",
   "metadata": {},
   "source": [
    "###### Introduction\n",
    "**Dataset Description**\n",
    "<br>i will go through candy data 2017 , this data has :\n",
    "\n",
    "* Internal_ID\n",
    "* Q1-Going Out?: Are you actually going trick or treating yourself? \"has values Yes or No\"\n",
    "* Q2-Gender: It has four different options, Femal ,Male ,Other ,I'd rather not say\n",
    "* Q3-Age: Numerical field\n",
    "* Q4-Country: Text Field, but users have written their own version of the names. Example, for America, there are entries such as USA, us, US, America so we should consider that while cleanning\n",
    "* Q5-State/Province: Text Field, but users have written their own version of the names. Same as the country data.\n",
    "* Q6-Joy Or Despair: All kinds of chocolate bars are the questions with three distinct options to choose from (Joy, Meh, Despair).\n",
    "* Q7-Joy Other: Text Field to write items not included above that give you JOY. Lots of missing values.\n",
    "* Q8-Despair Other: Text Field ti write items not included above that give you DESPAIR. Lots of missing values.\n",
    "* Q9-Other Comments: Text Field. Lots of missing values.\n",
    "* Q10-Dress: Binary field. Missing values present\n",
    "* Unnamed: 113\n",
    "* Q11-Day: Binary Answer Field. Missing values present"
   ]
  },
  {
   "cell_type": "markdown",
   "id": "82bc4c74",
   "metadata": {},
   "source": [
    "###### import packages and read our data"
   ]
  },
  {
   "cell_type": "code",
   "execution_count": 1,
   "id": "ed642a32",
   "metadata": {},
   "outputs": [],
   "source": [
    "import pandas as pd\n",
    "import numpy as np\n",
    "from fuzzywuzzy import fuzz\n",
    "from fuzzywuzzy import process"
   ]
  },
  {
   "cell_type": "code",
   "execution_count": 2,
   "id": "6121fe1a",
   "metadata": {},
   "outputs": [
    {
     "data": {
      "text/html": [
       "<div>\n",
       "<style scoped>\n",
       "    .dataframe tbody tr th:only-of-type {\n",
       "        vertical-align: middle;\n",
       "    }\n",
       "\n",
       "    .dataframe tbody tr th {\n",
       "        vertical-align: top;\n",
       "    }\n",
       "\n",
       "    .dataframe thead th {\n",
       "        text-align: right;\n",
       "    }\n",
       "</style>\n",
       "<table border=\"1\" class=\"dataframe\">\n",
       "  <thead>\n",
       "    <tr style=\"text-align: right;\">\n",
       "      <th></th>\n",
       "      <th>Internal ID</th>\n",
       "      <th>Q1: GOING OUT?</th>\n",
       "      <th>Q2: GENDER</th>\n",
       "      <th>Q3: AGE</th>\n",
       "      <th>Q4: COUNTRY</th>\n",
       "      <th>Q5: STATE, PROVINCE, COUNTY, ETC</th>\n",
       "      <th>Q6 | 100 Grand Bar</th>\n",
       "      <th>Q6 | Anonymous brown globs that come in black and orange wrappers\\t(a.k.a. Mary Janes)</th>\n",
       "      <th>Q6 | Any full-sized candy bar</th>\n",
       "      <th>Q6 | Black Jacks</th>\n",
       "      <th>...</th>\n",
       "      <th>Q8: DESPAIR OTHER</th>\n",
       "      <th>Q9: OTHER COMMENTS</th>\n",
       "      <th>Q10: DRESS</th>\n",
       "      <th>Unnamed: 113</th>\n",
       "      <th>Q11: DAY</th>\n",
       "      <th>Q12: MEDIA [Daily Dish]</th>\n",
       "      <th>Q12: MEDIA [Science]</th>\n",
       "      <th>Q12: MEDIA [ESPN]</th>\n",
       "      <th>Q12: MEDIA [Yahoo]</th>\n",
       "      <th>Click Coordinates (x, y)</th>\n",
       "    </tr>\n",
       "  </thead>\n",
       "  <tbody>\n",
       "    <tr>\n",
       "      <th>0</th>\n",
       "      <td>90258773</td>\n",
       "      <td>NaN</td>\n",
       "      <td>NaN</td>\n",
       "      <td>NaN</td>\n",
       "      <td>NaN</td>\n",
       "      <td>NaN</td>\n",
       "      <td>NaN</td>\n",
       "      <td>NaN</td>\n",
       "      <td>NaN</td>\n",
       "      <td>NaN</td>\n",
       "      <td>...</td>\n",
       "      <td>NaN</td>\n",
       "      <td>NaN</td>\n",
       "      <td>NaN</td>\n",
       "      <td>NaN</td>\n",
       "      <td>NaN</td>\n",
       "      <td>NaN</td>\n",
       "      <td>NaN</td>\n",
       "      <td>NaN</td>\n",
       "      <td>NaN</td>\n",
       "      <td>NaN</td>\n",
       "    </tr>\n",
       "    <tr>\n",
       "      <th>1</th>\n",
       "      <td>90272821</td>\n",
       "      <td>No</td>\n",
       "      <td>Male</td>\n",
       "      <td>44</td>\n",
       "      <td>USA</td>\n",
       "      <td>NM</td>\n",
       "      <td>MEH</td>\n",
       "      <td>DESPAIR</td>\n",
       "      <td>JOY</td>\n",
       "      <td>MEH</td>\n",
       "      <td>...</td>\n",
       "      <td>NaN</td>\n",
       "      <td>Bottom line is Twix is really the only candy w...</td>\n",
       "      <td>White and gold</td>\n",
       "      <td>NaN</td>\n",
       "      <td>Sunday</td>\n",
       "      <td>NaN</td>\n",
       "      <td>1.0</td>\n",
       "      <td>NaN</td>\n",
       "      <td>NaN</td>\n",
       "      <td>(84, 25)</td>\n",
       "    </tr>\n",
       "    <tr>\n",
       "      <th>2</th>\n",
       "      <td>90272829</td>\n",
       "      <td>NaN</td>\n",
       "      <td>Male</td>\n",
       "      <td>49</td>\n",
       "      <td>USA</td>\n",
       "      <td>Virginia</td>\n",
       "      <td>NaN</td>\n",
       "      <td>NaN</td>\n",
       "      <td>NaN</td>\n",
       "      <td>NaN</td>\n",
       "      <td>...</td>\n",
       "      <td>NaN</td>\n",
       "      <td>NaN</td>\n",
       "      <td>NaN</td>\n",
       "      <td>NaN</td>\n",
       "      <td>NaN</td>\n",
       "      <td>NaN</td>\n",
       "      <td>NaN</td>\n",
       "      <td>NaN</td>\n",
       "      <td>NaN</td>\n",
       "      <td>NaN</td>\n",
       "    </tr>\n",
       "    <tr>\n",
       "      <th>3</th>\n",
       "      <td>90272840</td>\n",
       "      <td>No</td>\n",
       "      <td>Male</td>\n",
       "      <td>40</td>\n",
       "      <td>us</td>\n",
       "      <td>or</td>\n",
       "      <td>MEH</td>\n",
       "      <td>DESPAIR</td>\n",
       "      <td>JOY</td>\n",
       "      <td>MEH</td>\n",
       "      <td>...</td>\n",
       "      <td>NaN</td>\n",
       "      <td>Raisins can go to hell</td>\n",
       "      <td>White and gold</td>\n",
       "      <td>NaN</td>\n",
       "      <td>Sunday</td>\n",
       "      <td>NaN</td>\n",
       "      <td>1.0</td>\n",
       "      <td>NaN</td>\n",
       "      <td>NaN</td>\n",
       "      <td>(75, 23)</td>\n",
       "    </tr>\n",
       "    <tr>\n",
       "      <th>4</th>\n",
       "      <td>90272841</td>\n",
       "      <td>No</td>\n",
       "      <td>Male</td>\n",
       "      <td>23</td>\n",
       "      <td>usa</td>\n",
       "      <td>exton pa</td>\n",
       "      <td>JOY</td>\n",
       "      <td>DESPAIR</td>\n",
       "      <td>JOY</td>\n",
       "      <td>DESPAIR</td>\n",
       "      <td>...</td>\n",
       "      <td>NaN</td>\n",
       "      <td>NaN</td>\n",
       "      <td>White and gold</td>\n",
       "      <td>NaN</td>\n",
       "      <td>Friday</td>\n",
       "      <td>NaN</td>\n",
       "      <td>1.0</td>\n",
       "      <td>NaN</td>\n",
       "      <td>NaN</td>\n",
       "      <td>(70, 10)</td>\n",
       "    </tr>\n",
       "  </tbody>\n",
       "</table>\n",
       "<p>5 rows × 120 columns</p>\n",
       "</div>"
      ],
      "text/plain": [
       "   Internal ID Q1: GOING OUT? Q2: GENDER Q3: AGE Q4: COUNTRY  \\\n",
       "0     90258773            NaN        NaN     NaN         NaN   \n",
       "1     90272821             No       Male      44        USA    \n",
       "2     90272829            NaN       Male      49         USA   \n",
       "3     90272840             No       Male      40          us   \n",
       "4     90272841             No       Male      23         usa   \n",
       "\n",
       "  Q5: STATE, PROVINCE, COUNTY, ETC Q6 | 100 Grand Bar  \\\n",
       "0                              NaN                NaN   \n",
       "1                               NM                MEH   \n",
       "2                         Virginia                NaN   \n",
       "3                               or                MEH   \n",
       "4                         exton pa                JOY   \n",
       "\n",
       "  Q6 | Anonymous brown globs that come in black and orange wrappers\\t(a.k.a. Mary Janes)  \\\n",
       "0                                                NaN                                       \n",
       "1                                            DESPAIR                                       \n",
       "2                                                NaN                                       \n",
       "3                                            DESPAIR                                       \n",
       "4                                            DESPAIR                                       \n",
       "\n",
       "  Q6 | Any full-sized candy bar Q6 | Black Jacks  ... Q8: DESPAIR OTHER  \\\n",
       "0                           NaN              NaN  ...               NaN   \n",
       "1                           JOY              MEH  ...               NaN   \n",
       "2                           NaN              NaN  ...               NaN   \n",
       "3                           JOY              MEH  ...               NaN   \n",
       "4                           JOY          DESPAIR  ...               NaN   \n",
       "\n",
       "                                  Q9: OTHER COMMENTS      Q10: DRESS  \\\n",
       "0                                                NaN             NaN   \n",
       "1  Bottom line is Twix is really the only candy w...  White and gold   \n",
       "2                                                NaN             NaN   \n",
       "3                             Raisins can go to hell  White and gold   \n",
       "4                                                NaN  White and gold   \n",
       "\n",
       "  Unnamed: 113 Q11: DAY Q12: MEDIA [Daily Dish] Q12: MEDIA [Science]  \\\n",
       "0          NaN      NaN                     NaN                  NaN   \n",
       "1          NaN   Sunday                     NaN                  1.0   \n",
       "2          NaN      NaN                     NaN                  NaN   \n",
       "3          NaN   Sunday                     NaN                  1.0   \n",
       "4          NaN   Friday                     NaN                  1.0   \n",
       "\n",
       "  Q12: MEDIA [ESPN] Q12: MEDIA [Yahoo] Click Coordinates (x, y)  \n",
       "0               NaN                NaN                      NaN  \n",
       "1               NaN                NaN                 (84, 25)  \n",
       "2               NaN                NaN                      NaN  \n",
       "3               NaN                NaN                 (75, 23)  \n",
       "4               NaN                NaN                 (70, 10)  \n",
       "\n",
       "[5 rows x 120 columns]"
      ]
     },
     "execution_count": 2,
     "metadata": {},
     "output_type": "execute_result"
    }
   ],
   "source": [
    "candy=pd.read_csv('candyhierarchy2017.xlsx - responses (2) (1).csv.csv')\n",
    "candy.head()"
   ]
  },
  {
   "cell_type": "code",
   "execution_count": 3,
   "id": "d36cc06d",
   "metadata": {},
   "outputs": [
    {
     "data": {
      "text/plain": [
       "(2460, 120)"
      ]
     },
     "execution_count": 3,
     "metadata": {},
     "output_type": "execute_result"
    }
   ],
   "source": [
    "candy.shape"
   ]
  },
  {
   "cell_type": "markdown",
   "id": "5ace8ec7",
   "metadata": {},
   "source": [
    "###### summary"
   ]
  },
  {
   "cell_type": "markdown",
   "id": "8f70931f",
   "metadata": {},
   "source": [
    "* Missing values are in the standard format (NAN)\n",
    "* All the columns should be categorial except for the \"Q3: AGE\" column\n",
    "* The NANs in the \"Q12\" columns means \"Not selected\", should be replaced with 0\n",
    "* there are unneeded columns for my analysis (\"Internal ID\", \"Unnamed: 113\", \"Click Coordinates (x, y)\"...)\n",
    "* columns should be renamed for easier access\n",
    "* There is inconsistent data in the \"Q4: COUNTRY\" column\n"
   ]
  },
  {
   "cell_type": "markdown",
   "id": "fc07e509",
   "metadata": {},
   "source": [
    "### cleaning"
   ]
  },
  {
   "cell_type": "markdown",
   "id": "9d8a1ba3",
   "metadata": {},
   "source": [
    "###### filling the \"Q12\" columns NANs with 0"
   ]
  },
  {
   "cell_type": "code",
   "execution_count": 4,
   "id": "f7bf01fe",
   "metadata": {},
   "outputs": [],
   "source": [
    "# 0>>>\"Not selected\", 1>>> \"Selected\"\n",
    "cols=[\"Q12: MEDIA [Daily Dish]\",\"Q12: MEDIA [Science]\", \"Q12: MEDIA [ESPN]\", \"Q12: MEDIA [Yahoo]\"]\n",
    "candy[cols]=candy[cols].fillna(0)"
   ]
  },
  {
   "cell_type": "markdown",
   "id": "0626347a",
   "metadata": {},
   "source": [
    "**gving variables the correct data types**\n",
    "* \"Q4: COUNTRY\", \"Q5: STATE, PROVINCE, COUNTY, ETC\" colmns are easier to be cleaned as string\n",
    "\n"
   ]
  },
  {
   "cell_type": "code",
   "execution_count": 5,
   "id": "06dd6551",
   "metadata": {},
   "outputs": [],
   "source": [
    "df=candy.drop([\"Q4: COUNTRY\",\"Q5: STATE, PROVINCE, COUNTY, ETC\",\"Q3: AGE\"],axis=1)\n",
    "candy[df.columns]=candy[df.columns].astype('category')"
   ]
  },
  {
   "cell_type": "code",
   "execution_count": 6,
   "id": "58388f9b",
   "metadata": {},
   "outputs": [],
   "source": [
    "candy[ \"Q3: AGE\"]=pd.to_numeric(candy[ \"Q3: AGE\"], errors='coerce')"
   ]
  },
  {
   "cell_type": "code",
   "execution_count": 7,
   "id": "78ee3328",
   "metadata": {},
   "outputs": [
    {
     "name": "stdout",
     "output_type": "stream",
     "text": [
      "<class 'pandas.core.frame.DataFrame'>\n",
      "RangeIndex: 2460 entries, 0 to 2459\n",
      "Columns: 120 entries, Internal ID to Click Coordinates (x, y)\n",
      "dtypes: category(117), float64(1), object(2)\n",
      "memory usage: 560.5+ KB\n"
     ]
    }
   ],
   "source": [
    "candy.info()"
   ]
  },
  {
   "cell_type": "markdown",
   "id": "a20d8e76",
   "metadata": {},
   "source": [
    "###### droping the useless columns \n",
    "* columns I wouldn't use\n",
    "* columns with too much NANs (more than 80%)"
   ]
  },
  {
   "cell_type": "code",
   "execution_count": 8,
   "id": "29e428d1",
   "metadata": {},
   "outputs": [],
   "source": [
    "candy.drop(columns=['Internal ID','Unnamed: 113','Click Coordinates (x, y)'],inplace=True)"
   ]
  },
  {
   "cell_type": "code",
   "execution_count": 9,
   "id": "685646ef",
   "metadata": {},
   "outputs": [],
   "source": [
    "for column in candy.columns:\n",
    "    if candy[column].isna().sum()>1968:\n",
    "        candy.drop([column],axis=1,inplace=True)"
   ]
  },
  {
   "cell_type": "code",
   "execution_count": 10,
   "id": "dcbe76d3",
   "metadata": {},
   "outputs": [
    {
     "data": {
      "text/plain": [
       "(2460, 116)"
      ]
     },
     "execution_count": 10,
     "metadata": {},
     "output_type": "execute_result"
    }
   ],
   "source": [
    "candy.shape"
   ]
  },
  {
   "cell_type": "markdown",
   "id": "d40d250e",
   "metadata": {},
   "source": [
    "###### renaming the columns for easiers acces"
   ]
  },
  {
   "cell_type": "code",
   "execution_count": 11,
   "id": "3163578b",
   "metadata": {},
   "outputs": [],
   "source": [
    "candy.rename(columns={'Q1: GOING OUT?':'going out','Q2: GENDER':'gender', 'Q3: AGE':'age', 'Q4: COUNTRY':'country',\n",
    "                      \n",
    "                      'Q5: STATE, PROVINCE, COUNTY, ETC':'area','Q7: JOY OTHER':'joy_other', 'Q8: DESPAIR OTHER':'despair_othr',\n",
    "                      \n",
    "        'Q9: OTHER COMMENTS':'other_comments','Q10: DRESS':'dress', 'Q11: DAY':'day','Q12: MEDIA [Daily Dish]':'media_DailyDish'\n",
    "                      ,\n",
    "       'Q12: MEDIA [Science]':'media_science', 'Q12: MEDIA [ESPN]':'media_ESPN', 'Q12: MEDIA [Yahoo]':'media_yahoo',}\n",
    "             ,inplace=True)"
   ]
  },
  {
   "cell_type": "code",
   "execution_count": 13,
   "id": "bfe4c11a",
   "metadata": {},
   "outputs": [
    {
     "data": {
      "text/plain": [
       "Index(['going out', 'gender', 'age', 'country', 'area', 'Q6 | 100 Grand Bar',\n",
       "       'Q6 | Anonymous brown globs that come in black and orange wrappers\\t(a.k.a. Mary Janes)',\n",
       "       'Q6 | Any full-sized candy bar', 'Q6 | Black Jacks',\n",
       "       'Q6 | Bonkers (the candy)',\n",
       "       ...\n",
       "       'Q6 | Whole Wheat anything', 'Q6 | York Peppermint Patties',\n",
       "       'joy_other', 'despair_othr', 'dress', 'day', 'media_DailyDish',\n",
       "       'media_science', 'media_ESPN', 'media_yahoo'],\n",
       "      dtype='object', length=116)"
      ]
     },
     "execution_count": 13,
     "metadata": {},
     "output_type": "execute_result"
    }
   ],
   "source": [
    "candy.columns"
   ]
  },
  {
   "cell_type": "markdown",
   "id": "97abfa4d",
   "metadata": {},
   "source": [
    "###### removing the empty rows"
   ]
  },
  {
   "cell_type": "code",
   "execution_count": 14,
   "id": "2fd090d5",
   "metadata": {},
   "outputs": [],
   "source": [
    "candy.dropna(axis=0, how='all',inplace=True)"
   ]
  },
  {
   "cell_type": "code",
   "execution_count": 15,
   "id": "87788c3a",
   "metadata": {},
   "outputs": [
    {
     "data": {
      "text/plain": [
       "(2460, 116)"
      ]
     },
     "execution_count": 15,
     "metadata": {},
     "output_type": "execute_result"
    }
   ],
   "source": [
    "candy.shape"
   ]
  },
  {
   "cell_type": "markdown",
   "id": "55e4315e",
   "metadata": {},
   "source": [
    "###### \"going out\" column"
   ]
  },
  {
   "cell_type": "code",
   "execution_count": 16,
   "id": "68dd9141",
   "metadata": {},
   "outputs": [
    {
     "data": {
      "text/plain": [
       "No     2038\n",
       "Yes     312\n",
       "NaN     110\n",
       "Name: going out, dtype: int64"
      ]
     },
     "execution_count": 16,
     "metadata": {},
     "output_type": "execute_result"
    }
   ],
   "source": [
    "candy['going out'].value_counts(dropna=False)"
   ]
  },
  {
   "cell_type": "code",
   "execution_count": 17,
   "id": "43cca54c",
   "metadata": {},
   "outputs": [],
   "source": [
    "# fill  NANs with mode\n",
    "candy['going out'].fillna(candy['going out'].mode()[0],inplace=True)"
   ]
  },
  {
   "cell_type": "markdown",
   "id": "fb4a79d2",
   "metadata": {},
   "source": [
    "###### \"gender\" column"
   ]
  },
  {
   "cell_type": "code",
   "execution_count": 18,
   "id": "11233c00",
   "metadata": {},
   "outputs": [
    {
     "data": {
      "text/plain": [
       "[NaN, 'Male', 'Female', 'I'd rather not say', 'Other']\n",
       "Categories (4, object): ['Female', 'I'd rather not say', 'Male', 'Other']"
      ]
     },
     "execution_count": 18,
     "metadata": {},
     "output_type": "execute_result"
    }
   ],
   "source": [
    "candy['gender'].unique()"
   ]
  },
  {
   "cell_type": "code",
   "execution_count": 19,
   "id": "b931ade0",
   "metadata": {},
   "outputs": [],
   "source": [
    "candy['gender'].fillna(\"I'd rather not say\",inplace=True)"
   ]
  },
  {
   "cell_type": "markdown",
   "id": "f2535b81",
   "metadata": {},
   "source": [
    "###### \"age\" column"
   ]
  },
  {
   "cell_type": "code",
   "execution_count": 20,
   "id": "9a3e1e86",
   "metadata": {},
   "outputs": [
    {
     "data": {
      "text/plain": [
       "count    2351.000000\n",
       "mean       42.605444\n",
       "std        23.844665\n",
       "min         1.000000\n",
       "25%        34.000000\n",
       "50%        41.000000\n",
       "75%        50.000000\n",
       "max      1000.000000\n",
       "Name: age, dtype: float64"
      ]
     },
     "execution_count": 20,
     "metadata": {},
     "output_type": "execute_result"
    }
   ],
   "source": [
    "# data got ouliers\n",
    "candy['age'].describe()"
   ]
  },
  {
   "cell_type": "code",
   "execution_count": 21,
   "id": "b7e1f38f",
   "metadata": {},
   "outputs": [],
   "source": [
    "# filling NANs with the median\n",
    "candy['age'].fillna(candy['age'].median(),inplace=True)"
   ]
  },
  {
   "cell_type": "code",
   "execution_count": 22,
   "id": "836bd223",
   "metadata": {},
   "outputs": [],
   "source": [
    "# handeling Outliers\n",
    "Q1, Q3= np.percentile(candy['age'],[25,75])\n",
    "IQR= Q3 - Q1\n",
    "max= Q3 + (1.5 * IQR)\n",
    "min = Q1 - (1.5 * IQR)\n",
    "candy[\"age\"] = np.where(candy[\"age\"]< min, min,candy['age'])\n",
    "candy[\"age\"] = np.where(candy[\"age\"]>max , max,candy['age'])"
   ]
  },
  {
   "cell_type": "code",
   "execution_count": 23,
   "id": "42e95862",
   "metadata": {},
   "outputs": [
    {
     "data": {
      "text/plain": [
       "count    2460.000000\n",
       "mean       42.001382\n",
       "std        11.541018\n",
       "min        11.500000\n",
       "25%        34.000000\n",
       "50%        41.000000\n",
       "75%        49.000000\n",
       "max        71.500000\n",
       "Name: age, dtype: float64"
      ]
     },
     "execution_count": 23,
     "metadata": {},
     "output_type": "execute_result"
    }
   ],
   "source": [
    "candy['age'].describe()"
   ]
  },
  {
   "cell_type": "markdown",
   "id": "e75a8914",
   "metadata": {},
   "source": [
    "###### \"country\" column"
   ]
  },
  {
   "cell_type": "code",
   "execution_count": 24,
   "id": "b4a7b4dc",
   "metadata": {},
   "outputs": [
    {
     "data": {
      "text/plain": [
       "array([nan, 'USA ', 'USA', 'us', 'usa', 'canada', 'Canada', 'Us', 'US',\n",
       "       'Murica', 'United States', 'uk', 'United Kingdom', 'united states',\n",
       "       'Usa', 'United States ', 'United staes',\n",
       "       'United States of America', 'UAE', 'England', 'UK', 'canada ',\n",
       "       'Mexico', 'United states', 'u.s.a.', 'USAUSAUSA', 'america', '35',\n",
       "       'france', 'United States of America ', 'U.S.A.', 'finland',\n",
       "       'unhinged states', 'Canada ', 'united states of america',\n",
       "       'US of A', 'Unites States', 'The United States', 'North Carolina ',\n",
       "       'Unied States', 'Netherlands', 'germany', 'Europe', 'Earth', 'U S',\n",
       "       'u.s.', 'U.K. ', 'Costa Rica', 'The United States of America',\n",
       "       'unite states', 'U.S.', '46', 'cascadia', 'Australia',\n",
       "       'insanity lately', 'Greece', 'USA? Hard to tell anymore..',\n",
       "       \"'merica\", 'usas', 'Pittsburgh', '45', 'United State', '32',\n",
       "       'France', 'australia', 'A', 'Can', 'Canae', 'New York',\n",
       "       'Trumpistan', 'Ireland', 'United Sates', 'Korea', 'California',\n",
       "       'Japan', 'USa', 'South africa',\n",
       "       'I pretend to be from Canada, but I am really from the United States.',\n",
       "       'Usa ', 'Uk', 'Iceland', 'Germany', 'Canada`', 'Scotland', 'UK ',\n",
       "       'Denmark', 'United Stated', 'France ', 'Switzerland',\n",
       "       'Ahem....Amerca', 'UD', 'Scotland ', 'South Korea', 'New Jersey',\n",
       "       'CANADA', 'Indonesia', 'United ststes', 'America',\n",
       "       'The Netherlands', 'United Statss', 'endland', 'Atlantis',\n",
       "       'murrika', 'USA! USA! USA!', 'USAA', 'Alaska', 'united States ',\n",
       "       'soviet canuckistan', 'N. America', 'Singapore', 'USSA', 'China',\n",
       "       'Taiwan', 'Ireland ', 'hong kong', 'spain', 'Sweden', 'Hong Kong',\n",
       "       'U.S. ', 'Narnia', 'u s a', 'United Statea', 'united ststes', '1',\n",
       "       'subscribe to dm4uz3 on youtube', 'United kingdom',\n",
       "       'USA USA USA!!!!', \"I don't know anymore\", 'Fear and Loathing'],\n",
       "      dtype=object)"
      ]
     },
     "execution_count": 24,
     "metadata": {},
     "output_type": "execute_result"
    }
   ],
   "source": [
    "candy['country'].unique()"
   ]
  },
  {
   "cell_type": "code",
   "execution_count": 25,
   "id": "b8a2a0c6",
   "metadata": {},
   "outputs": [],
   "source": [
    "USA=[x for x in candy['country'].unique() if (fuzz.WRatio(str(x),'USA')>=70)\n",
    "     or (fuzz.partial_ratio(str(x),'United States of America')>=70)\n",
    "     or (fuzz.WRatio(str(x),'U.S.')>=70)]\n",
    "candy['country'].replace(USA,'USA',inplace=True)"
   ]
  },
  {
   "cell_type": "code",
   "execution_count": 26,
   "id": "37bd50f3",
   "metadata": {},
   "outputs": [],
   "source": [
    "Canada=[x for x in candy['country'].unique() if (fuzz.WRatio(str(x),'Canada')>=70)]\n",
    "candy['country'].replace(Canada,'Canada',inplace=True)"
   ]
  },
  {
   "cell_type": "code",
   "execution_count": 27,
   "id": "a2ed7282",
   "metadata": {},
   "outputs": [
    {
     "data": {
      "text/plain": [
       "['uk', 'United Kingdom', 'UK', 'U.K. ', 'Uk', 'UK ', 'United kingdom']"
      ]
     },
     "execution_count": 27,
     "metadata": {},
     "output_type": "execute_result"
    }
   ],
   "source": [
    "Uk =[x for x in candy['country'].unique() if (fuzz.partial_ratio(str(x),'United Kingdom')>=60)\n",
    "     or (fuzz.WRatio(str(x),'UK')>=60)]\n",
    "candy['country'].replace(Uk,'Uk',inplace=True)\n",
    "Uk"
   ]
  },
  {
   "cell_type": "code",
   "execution_count": 28,
   "id": "cd14cd91",
   "metadata": {},
   "outputs": [
    {
     "data": {
      "text/plain": [
       "['germany', 'Germany']"
      ]
     },
     "execution_count": 28,
     "metadata": {},
     "output_type": "execute_result"
    }
   ],
   "source": [
    "Germany=[x for x in candy['country'].unique() if (fuzz.WRatio(str(x),'Germany')>=70)]\n",
    "candy['country'].replace(Germany,'Germany',inplace=True)\n",
    "Germany"
   ]
  },
  {
   "cell_type": "code",
   "execution_count": 29,
   "id": "cad385eb",
   "metadata": {},
   "outputs": [
    {
     "data": {
      "text/plain": [
       "USA            2038\n",
       "Canada          228\n",
       "NaN              64\n",
       "Uk               33\n",
       "Germany          10\n",
       "Netherlands       6\n",
       "Australia         5\n",
       "Japan             5\n",
       "Scotland          4\n",
       "Mexico            4\n",
       "Name: country, dtype: int64"
      ]
     },
     "execution_count": 29,
     "metadata": {},
     "output_type": "execute_result"
    }
   ],
   "source": [
    "candy['country'].value_counts(dropna=False).head(10)"
   ]
  },
  {
   "cell_type": "code",
   "execution_count": 30,
   "id": "c3f0b6a7",
   "metadata": {},
   "outputs": [],
   "source": [
    "# creating others category that holds all values occurred less tha 5 times\n",
    "others=[x for x in candy['country'] if candy['country'].value_counts(dropna=False)[x]<5]\n",
    "candy['country'].replace(others,'others',inplace=True)"
   ]
  },
  {
   "cell_type": "code",
   "execution_count": 31,
   "id": "f37920ea",
   "metadata": {},
   "outputs": [],
   "source": [
    "# fill NANs with others\n",
    "candy['country'].fillna('others',inplace=True)"
   ]
  },
  {
   "cell_type": "code",
   "execution_count": 32,
   "id": "3771e8e4",
   "metadata": {},
   "outputs": [
    {
     "data": {
      "text/plain": [
       "USA            2038\n",
       "Canada          228\n",
       "others          135\n",
       "Uk               33\n",
       "Germany          10\n",
       "Netherlands       6\n",
       "Australia         5\n",
       "Japan             5\n",
       "Name: country, dtype: int64"
      ]
     },
     "execution_count": 32,
     "metadata": {},
     "output_type": "execute_result"
    }
   ],
   "source": [
    "candy['country'].value_counts()"
   ]
  },
  {
   "cell_type": "markdown",
   "id": "64b9b80a",
   "metadata": {},
   "source": [
    "**now we change the data type to category**"
   ]
  },
  {
   "cell_type": "code",
   "execution_count": 33,
   "id": "428fae13",
   "metadata": {},
   "outputs": [],
   "source": [
    "candy[\"country\"]=candy[\"country\"].astype('category')"
   ]
  },
  {
   "cell_type": "markdown",
   "id": "69f20a5b",
   "metadata": {},
   "source": [
    "###### \"Q6\" columns"
   ]
  },
  {
   "cell_type": "code",
   "execution_count": 39,
   "id": "85fe8be6",
   "metadata": {},
   "outputs": [],
   "source": [
    "types=[x for x in candy.columns if \"Q6\" in x]"
   ]
  },
  {
   "cell_type": "code",
   "execution_count": 40,
   "id": "22e053b8",
   "metadata": {},
   "outputs": [],
   "source": [
    "candy[types]=candy[types].fillna(candy.mode().iloc[0])"
   ]
  },
  {
   "cell_type": "markdown",
   "id": "9ea03ce5",
   "metadata": {},
   "source": [
    "###### \"dress\" column"
   ]
  },
  {
   "cell_type": "code",
   "execution_count": 41,
   "id": "8fd5cc6f",
   "metadata": {},
   "outputs": [
    {
     "data": {
      "text/plain": [
       "White and gold    1081\n",
       "NaN                744\n",
       "Blue and black     635\n",
       "Name: dress, dtype: int64"
      ]
     },
     "execution_count": 41,
     "metadata": {},
     "output_type": "execute_result"
    }
   ],
   "source": [
    "candy['dress'].value_counts(dropna=False)"
   ]
  },
  {
   "cell_type": "code",
   "execution_count": 42,
   "id": "effe3578",
   "metadata": {},
   "outputs": [],
   "source": [
    "# creat new category called unkown\n",
    "candy[\"dress\"] = candy[\"dress\"].cat.add_categories(\"Unknown\")"
   ]
  },
  {
   "cell_type": "code",
   "execution_count": 43,
   "id": "4073c23c",
   "metadata": {},
   "outputs": [],
   "source": [
    "# fill NANs with Unknown\n",
    "candy.dress.fillna(\"Unknown\",inplace=True)"
   ]
  },
  {
   "cell_type": "markdown",
   "id": "6e4d5c5a",
   "metadata": {},
   "source": [
    "###### \"day\" column"
   ]
  },
  {
   "cell_type": "code",
   "execution_count": 44,
   "id": "d66b338d",
   "metadata": {},
   "outputs": [
    {
     "data": {
      "text/plain": [
       "Friday    1091\n",
       "NaN        725\n",
       "Sunday     644\n",
       "Name: day, dtype: int64"
      ]
     },
     "execution_count": 44,
     "metadata": {},
     "output_type": "execute_result"
    }
   ],
   "source": [
    "candy['day'].value_counts(dropna=False)"
   ]
  },
  {
   "cell_type": "code",
   "execution_count": 45,
   "id": "9c2b2121",
   "metadata": {},
   "outputs": [],
   "source": [
    "# creat new category called unkown\n",
    "candy[\"day\"] = candy[\"day\"].cat.add_categories(\"Unknown\")"
   ]
  },
  {
   "cell_type": "code",
   "execution_count": 46,
   "id": "64074b96",
   "metadata": {},
   "outputs": [],
   "source": [
    "# fill NANs with Unknown\n",
    "candy.day.fillna(\"Unknown\",inplace=True)"
   ]
  },
  {
   "cell_type": "markdown",
   "id": "bef744ea",
   "metadata": {},
   "source": [
    "###### finding out the 10 most loved and most hated chocolates."
   ]
  },
  {
   "cell_type": "code",
   "execution_count": 57,
   "id": "ae47a9b7",
   "metadata": {},
   "outputs": [
    {
     "data": {
      "text/plain": [
       "Almond Joy            10\n",
       "Beer                  10\n",
       "beer                   3\n",
       "Mounds, Almond Joy     3\n",
       "Kittens                3\n",
       "Sex                    3\n",
       "Cans of pop            2\n",
       "Charleston Chew        2\n",
       "White chocolate        2\n",
       "Whoppers               2\n",
       "Name: joy_other, dtype: int64"
      ]
     },
     "execution_count": 57,
     "metadata": {},
     "output_type": "execute_result"
    }
   ],
   "source": [
    "# very low amount, so we wouldn't take it in count\n",
    "candy[\"joy_other\"].value_counts().head(10)"
   ]
  },
  {
   "cell_type": "code",
   "execution_count": 58,
   "id": "0b38a87d",
   "metadata": {},
   "outputs": [
    {
     "data": {
      "text/plain": [
       "Trump                 7\n",
       "Almond Joy, Mounds    3\n",
       "Popcorn balls         3\n",
       "Tootsie Rolls         3\n",
       "Pennies               3\n",
       "Donald Trump          2\n",
       "popcorn               2\n",
       "Red hots              2\n",
       "Apples                2\n",
       "Restaurant mints      2\n",
       "Name: despair_othr, dtype: int64"
      ]
     },
     "execution_count": 58,
     "metadata": {},
     "output_type": "execute_result"
    }
   ],
   "source": [
    "# very low amount, so we wouldn't take it in count\n",
    "candy['despair_othr'].value_counts().head(10)"
   ]
  },
  {
   "cell_type": "code",
   "execution_count": 47,
   "id": "0ffe67ea",
   "metadata": {},
   "outputs": [
    {
     "data": {
      "text/html": [
       "<div>\n",
       "<style scoped>\n",
       "    .dataframe tbody tr th:only-of-type {\n",
       "        vertical-align: middle;\n",
       "    }\n",
       "\n",
       "    .dataframe tbody tr th {\n",
       "        vertical-align: top;\n",
       "    }\n",
       "\n",
       "    .dataframe thead th {\n",
       "        text-align: right;\n",
       "    }\n",
       "</style>\n",
       "<table border=\"1\" class=\"dataframe\">\n",
       "  <thead>\n",
       "    <tr style=\"text-align: right;\">\n",
       "      <th></th>\n",
       "      <th>Q6 | 100 Grand Bar</th>\n",
       "      <th>Q6 | Anonymous brown globs that come in black and orange wrappers\\t(a.k.a. Mary Janes)</th>\n",
       "      <th>Q6 | Any full-sized candy bar</th>\n",
       "      <th>Q6 | Black Jacks</th>\n",
       "      <th>Q6 | Bonkers (the candy)</th>\n",
       "      <th>Q6 | Bonkers (the board game)</th>\n",
       "      <th>Q6 | Bottle Caps</th>\n",
       "      <th>Q6 | Box'o'Raisins</th>\n",
       "      <th>Q6 | Broken glow stick</th>\n",
       "      <th>Q6 | Butterfinger</th>\n",
       "      <th>...</th>\n",
       "      <th>Q6 | Three Musketeers</th>\n",
       "      <th>Q6 | Tolberone something or other</th>\n",
       "      <th>Q6 | Trail Mix</th>\n",
       "      <th>Q6 | Twix</th>\n",
       "      <th>Q6 | Vials of pure high fructose corn syrup, for main-lining into your vein</th>\n",
       "      <th>Q6 | Vicodin</th>\n",
       "      <th>Q6 | Whatchamacallit Bars</th>\n",
       "      <th>Q6 | White Bread</th>\n",
       "      <th>Q6 | Whole Wheat anything</th>\n",
       "      <th>Q6 | York Peppermint Patties</th>\n",
       "    </tr>\n",
       "  </thead>\n",
       "  <tbody>\n",
       "    <tr>\n",
       "      <th>DESPAIR</th>\n",
       "      <td>85</td>\n",
       "      <td>1823</td>\n",
       "      <td>17</td>\n",
       "      <td>1751</td>\n",
       "      <td>495</td>\n",
       "      <td>546</td>\n",
       "      <td>560</td>\n",
       "      <td>1867</td>\n",
       "      <td>2331</td>\n",
       "      <td>141</td>\n",
       "      <td>...</td>\n",
       "      <td>176</td>\n",
       "      <td>84</td>\n",
       "      <td>1544</td>\n",
       "      <td>71</td>\n",
       "      <td>1938</td>\n",
       "      <td>1512</td>\n",
       "      <td>288</td>\n",
       "      <td>2212</td>\n",
       "      <td>2036</td>\n",
       "      <td>232</td>\n",
       "    </tr>\n",
       "    <tr>\n",
       "      <th>JOY</th>\n",
       "      <td>1620</td>\n",
       "      <td>176</td>\n",
       "      <td>2231</td>\n",
       "      <td>92</td>\n",
       "      <td>116</td>\n",
       "      <td>193</td>\n",
       "      <td>465</td>\n",
       "      <td>117</td>\n",
       "      <td>24</td>\n",
       "      <td>1859</td>\n",
       "      <td>...</td>\n",
       "      <td>1766</td>\n",
       "      <td>2026</td>\n",
       "      <td>228</td>\n",
       "      <td>2103</td>\n",
       "      <td>233</td>\n",
       "      <td>707</td>\n",
       "      <td>1663</td>\n",
       "      <td>44</td>\n",
       "      <td>117</td>\n",
       "      <td>1810</td>\n",
       "    </tr>\n",
       "    <tr>\n",
       "      <th>MEH</th>\n",
       "      <td>755</td>\n",
       "      <td>461</td>\n",
       "      <td>212</td>\n",
       "      <td>617</td>\n",
       "      <td>1849</td>\n",
       "      <td>1721</td>\n",
       "      <td>1435</td>\n",
       "      <td>476</td>\n",
       "      <td>105</td>\n",
       "      <td>460</td>\n",
       "      <td>...</td>\n",
       "      <td>518</td>\n",
       "      <td>350</td>\n",
       "      <td>688</td>\n",
       "      <td>286</td>\n",
       "      <td>289</td>\n",
       "      <td>241</td>\n",
       "      <td>509</td>\n",
       "      <td>204</td>\n",
       "      <td>307</td>\n",
       "      <td>418</td>\n",
       "    </tr>\n",
       "  </tbody>\n",
       "</table>\n",
       "<p>3 rows × 103 columns</p>\n",
       "</div>"
      ],
      "text/plain": [
       "         Q6 | 100 Grand Bar  \\\n",
       "DESPAIR                  85   \n",
       "JOY                    1620   \n",
       "MEH                     755   \n",
       "\n",
       "         Q6 | Anonymous brown globs that come in black and orange wrappers\\t(a.k.a. Mary Janes)  \\\n",
       "DESPAIR                                               1823                                        \n",
       "JOY                                                    176                                        \n",
       "MEH                                                    461                                        \n",
       "\n",
       "         Q6 | Any full-sized candy bar  Q6 | Black Jacks  \\\n",
       "DESPAIR                             17              1751   \n",
       "JOY                               2231                92   \n",
       "MEH                                212               617   \n",
       "\n",
       "         Q6 | Bonkers (the candy)  Q6 | Bonkers (the board game)  \\\n",
       "DESPAIR                       495                            546   \n",
       "JOY                           116                            193   \n",
       "MEH                          1849                           1721   \n",
       "\n",
       "         Q6 | Bottle Caps  Q6 | Box'o'Raisins  Q6 | Broken glow stick  \\\n",
       "DESPAIR               560                1867                    2331   \n",
       "JOY                   465                 117                      24   \n",
       "MEH                  1435                 476                     105   \n",
       "\n",
       "         Q6 | Butterfinger  ...  Q6 | Three Musketeers  \\\n",
       "DESPAIR                141  ...                    176   \n",
       "JOY                   1859  ...                   1766   \n",
       "MEH                    460  ...                    518   \n",
       "\n",
       "         Q6 | Tolberone something or other  Q6 | Trail Mix  Q6 | Twix  \\\n",
       "DESPAIR                                 84            1544         71   \n",
       "JOY                                   2026             228       2103   \n",
       "MEH                                    350             688        286   \n",
       "\n",
       "         Q6 | Vials of pure high fructose corn syrup, for main-lining into your vein  \\\n",
       "DESPAIR                                               1938                             \n",
       "JOY                                                    233                             \n",
       "MEH                                                    289                             \n",
       "\n",
       "         Q6 | Vicodin  Q6 | Whatchamacallit Bars  Q6 | White Bread  \\\n",
       "DESPAIR          1512                        288              2212   \n",
       "JOY               707                       1663                44   \n",
       "MEH               241                        509               204   \n",
       "\n",
       "         Q6 | Whole Wheat anything  Q6 | York Peppermint Patties  \n",
       "DESPAIR                       2036                           232  \n",
       "JOY                            117                          1810  \n",
       "MEH                            307                           418  \n",
       "\n",
       "[3 rows x 103 columns]"
      ]
     },
     "execution_count": 47,
     "metadata": {},
     "output_type": "execute_result"
    }
   ],
   "source": [
    "classified=candy[types].apply(pd.Series.value_counts)\n",
    "classified"
   ]
  },
  {
   "cell_type": "code",
   "execution_count": 53,
   "id": "ccf5e75e",
   "metadata": {},
   "outputs": [
    {
     "data": {
      "text/html": [
       "<div>\n",
       "<style scoped>\n",
       "    .dataframe tbody tr th:only-of-type {\n",
       "        vertical-align: middle;\n",
       "    }\n",
       "\n",
       "    .dataframe tbody tr th {\n",
       "        vertical-align: top;\n",
       "    }\n",
       "\n",
       "    .dataframe thead th {\n",
       "        text-align: right;\n",
       "    }\n",
       "</style>\n",
       "<table border=\"1\" class=\"dataframe\">\n",
       "  <thead>\n",
       "    <tr style=\"text-align: right;\">\n",
       "      <th></th>\n",
       "      <th>Q6 | Any full-sized candy bar</th>\n",
       "      <th>Q6 | Reese’s Peanut Butter Cups</th>\n",
       "      <th>Q6 | Kit Kat</th>\n",
       "      <th>Q6 | Cash, or other forms of legal tender</th>\n",
       "      <th>Q6 | Twix</th>\n",
       "      <th>Q6 | Snickers</th>\n",
       "      <th>Q6 | Tolberone something or other</th>\n",
       "      <th>Q6 | Lindt Truffle</th>\n",
       "      <th>Q6 | Peanut M&amp;M’s</th>\n",
       "      <th>Q6 | Nestle Crunch</th>\n",
       "      <th>...</th>\n",
       "      <th>Q6 | Kale smoothie</th>\n",
       "      <th>Q6 | Jolly Rancher (bad flavor)</th>\n",
       "      <th>Q6 | Black Jacks</th>\n",
       "      <th>Q6 | Real Housewives of Orange County Season 9 Blue-Ray</th>\n",
       "      <th>Q6 | Dental paraphenalia</th>\n",
       "      <th>Q6 | JoyJoy (Mit Iodine!)</th>\n",
       "      <th>Q6 | White Bread</th>\n",
       "      <th>Q6 | Gum from baseball cards</th>\n",
       "      <th>Q6 | Candy that is clearly just the stuff given out for free at restaurants</th>\n",
       "      <th>Q6 | Broken glow stick</th>\n",
       "    </tr>\n",
       "  </thead>\n",
       "  <tbody>\n",
       "    <tr>\n",
       "      <th>DESPAIR</th>\n",
       "      <td>17</td>\n",
       "      <td>95</td>\n",
       "      <td>52</td>\n",
       "      <td>65</td>\n",
       "      <td>71</td>\n",
       "      <td>79</td>\n",
       "      <td>84</td>\n",
       "      <td>98</td>\n",
       "      <td>121</td>\n",
       "      <td>102</td>\n",
       "      <td>...</td>\n",
       "      <td>2179</td>\n",
       "      <td>1755</td>\n",
       "      <td>1751</td>\n",
       "      <td>2233</td>\n",
       "      <td>2125</td>\n",
       "      <td>1982</td>\n",
       "      <td>2212</td>\n",
       "      <td>2178</td>\n",
       "      <td>2016</td>\n",
       "      <td>2331</td>\n",
       "    </tr>\n",
       "    <tr>\n",
       "      <th>JOY</th>\n",
       "      <td>2231</td>\n",
       "      <td>2177</td>\n",
       "      <td>2121</td>\n",
       "      <td>2119</td>\n",
       "      <td>2103</td>\n",
       "      <td>2089</td>\n",
       "      <td>2026</td>\n",
       "      <td>1995</td>\n",
       "      <td>1962</td>\n",
       "      <td>1886</td>\n",
       "      <td>...</td>\n",
       "      <td>108</td>\n",
       "      <td>98</td>\n",
       "      <td>92</td>\n",
       "      <td>91</td>\n",
       "      <td>91</td>\n",
       "      <td>76</td>\n",
       "      <td>44</td>\n",
       "      <td>44</td>\n",
       "      <td>39</td>\n",
       "      <td>24</td>\n",
       "    </tr>\n",
       "    <tr>\n",
       "      <th>MEH</th>\n",
       "      <td>212</td>\n",
       "      <td>188</td>\n",
       "      <td>287</td>\n",
       "      <td>276</td>\n",
       "      <td>286</td>\n",
       "      <td>292</td>\n",
       "      <td>350</td>\n",
       "      <td>367</td>\n",
       "      <td>377</td>\n",
       "      <td>472</td>\n",
       "      <td>...</td>\n",
       "      <td>173</td>\n",
       "      <td>607</td>\n",
       "      <td>617</td>\n",
       "      <td>136</td>\n",
       "      <td>244</td>\n",
       "      <td>402</td>\n",
       "      <td>204</td>\n",
       "      <td>238</td>\n",
       "      <td>405</td>\n",
       "      <td>105</td>\n",
       "    </tr>\n",
       "  </tbody>\n",
       "</table>\n",
       "<p>3 rows × 103 columns</p>\n",
       "</div>"
      ],
      "text/plain": [
       "         Q6 | Any full-sized candy bar  Q6 | Reese’s Peanut Butter Cups  \\\n",
       "DESPAIR                             17                               95   \n",
       "JOY                               2231                             2177   \n",
       "MEH                                212                              188   \n",
       "\n",
       "         Q6 | Kit Kat  Q6 | Cash, or other forms of legal tender  Q6 | Twix  \\\n",
       "DESPAIR            52                                         65         71   \n",
       "JOY              2121                                       2119       2103   \n",
       "MEH               287                                        276        286   \n",
       "\n",
       "         Q6 | Snickers  Q6 | Tolberone something or other  Q6 | Lindt Truffle  \\\n",
       "DESPAIR             79                                 84                  98   \n",
       "JOY               2089                               2026                1995   \n",
       "MEH                292                                350                 367   \n",
       "\n",
       "         Q6 | Peanut M&M’s  Q6 | Nestle Crunch  ...  Q6 | Kale smoothie  \\\n",
       "DESPAIR                121                 102  ...                2179   \n",
       "JOY                   1962                1886  ...                 108   \n",
       "MEH                    377                 472  ...                 173   \n",
       "\n",
       "         Q6 | Jolly Rancher (bad flavor)  Q6 | Black Jacks  \\\n",
       "DESPAIR                             1755              1751   \n",
       "JOY                                   98                92   \n",
       "MEH                                  607               617   \n",
       "\n",
       "         Q6 | Real Housewives of Orange County Season 9 Blue-Ray  \\\n",
       "DESPAIR                                               2233         \n",
       "JOY                                                     91         \n",
       "MEH                                                    136         \n",
       "\n",
       "         Q6 | Dental paraphenalia  Q6 | JoyJoy (Mit Iodine!)  \\\n",
       "DESPAIR                      2125                       1982   \n",
       "JOY                            91                         76   \n",
       "MEH                           244                        402   \n",
       "\n",
       "         Q6 | White Bread  Q6 | Gum from baseball cards  \\\n",
       "DESPAIR              2212                          2178   \n",
       "JOY                    44                            44   \n",
       "MEH                   204                           238   \n",
       "\n",
       "         Q6 | Candy that is clearly just the stuff given out for free at restaurants  \\\n",
       "DESPAIR                                               2016                             \n",
       "JOY                                                     39                             \n",
       "MEH                                                    405                             \n",
       "\n",
       "         Q6 | Broken glow stick  \n",
       "DESPAIR                    2331  \n",
       "JOY                          24  \n",
       "MEH                         105  \n",
       "\n",
       "[3 rows x 103 columns]"
      ]
     },
     "execution_count": 53,
     "metadata": {},
     "output_type": "execute_result"
    }
   ],
   "source": [
    "# ordering with Joy to get top 10 most loved\n",
    "classified.sort_values(by=\"JOY\",axis=1,ascending=False)"
   ]
  },
  {
   "cell_type": "markdown",
   "id": "5122955b",
   "metadata": {},
   "source": [
    "###### Top 10 loved chocolates\n",
    "* Any full-sized candy bar\n",
    "* Reese’s Peanut Butter Cups\n",
    "* Kit Kat\n",
    "* Cash, or other forms of legal tender\n",
    "* Twix\n",
    "* Snickers\n",
    "* Tolberone something or other\n",
    "* Lindt Truffle\n",
    "* Peanut M&M’s\n",
    "* Nestle Crunch\t"
   ]
  },
  {
   "cell_type": "code",
   "execution_count": 52,
   "id": "ff237033",
   "metadata": {},
   "outputs": [
    {
     "data": {
      "text/html": [
       "<div>\n",
       "<style scoped>\n",
       "    .dataframe tbody tr th:only-of-type {\n",
       "        vertical-align: middle;\n",
       "    }\n",
       "\n",
       "    .dataframe tbody tr th {\n",
       "        vertical-align: top;\n",
       "    }\n",
       "\n",
       "    .dataframe thead th {\n",
       "        text-align: right;\n",
       "    }\n",
       "</style>\n",
       "<table border=\"1\" class=\"dataframe\">\n",
       "  <thead>\n",
       "    <tr style=\"text-align: right;\">\n",
       "      <th></th>\n",
       "      <th>Q6 | Broken glow stick</th>\n",
       "      <th>Q6 | Real Housewives of Orange County Season 9 Blue-Ray</th>\n",
       "      <th>Q6 | White Bread</th>\n",
       "      <th>Q6 | Kale smoothie</th>\n",
       "      <th>Q6 | Gum from baseball cards</th>\n",
       "      <th>Q6 | Dental paraphenalia</th>\n",
       "      <th>Q6 | Creepy Religious comics/Chick Tracts</th>\n",
       "      <th>Q6 | Whole Wheat anything</th>\n",
       "      <th>Q6 | Spotted Dick</th>\n",
       "      <th>Q6 | Candy that is clearly just the stuff given out for free at restaurants</th>\n",
       "      <th>...</th>\n",
       "      <th>Q6 | Lindt Truffle</th>\n",
       "      <th>Q6 | Reese’s Peanut Butter Cups</th>\n",
       "      <th>Q6 | 100 Grand Bar</th>\n",
       "      <th>Q6 | Tolberone something or other</th>\n",
       "      <th>Q6 | Snickers</th>\n",
       "      <th>Q6 | Regular M&amp;Ms</th>\n",
       "      <th>Q6 | Twix</th>\n",
       "      <th>Q6 | Cash, or other forms of legal tender</th>\n",
       "      <th>Q6 | Kit Kat</th>\n",
       "      <th>Q6 | Any full-sized candy bar</th>\n",
       "    </tr>\n",
       "  </thead>\n",
       "  <tbody>\n",
       "    <tr>\n",
       "      <th>DESPAIR</th>\n",
       "      <td>2331</td>\n",
       "      <td>2233</td>\n",
       "      <td>2212</td>\n",
       "      <td>2179</td>\n",
       "      <td>2178</td>\n",
       "      <td>2125</td>\n",
       "      <td>2110</td>\n",
       "      <td>2036</td>\n",
       "      <td>2022</td>\n",
       "      <td>2016</td>\n",
       "      <td>...</td>\n",
       "      <td>98</td>\n",
       "      <td>95</td>\n",
       "      <td>85</td>\n",
       "      <td>84</td>\n",
       "      <td>79</td>\n",
       "      <td>75</td>\n",
       "      <td>71</td>\n",
       "      <td>65</td>\n",
       "      <td>52</td>\n",
       "      <td>17</td>\n",
       "    </tr>\n",
       "    <tr>\n",
       "      <th>JOY</th>\n",
       "      <td>24</td>\n",
       "      <td>91</td>\n",
       "      <td>44</td>\n",
       "      <td>108</td>\n",
       "      <td>44</td>\n",
       "      <td>91</td>\n",
       "      <td>246</td>\n",
       "      <td>117</td>\n",
       "      <td>128</td>\n",
       "      <td>39</td>\n",
       "      <td>...</td>\n",
       "      <td>1995</td>\n",
       "      <td>2177</td>\n",
       "      <td>1620</td>\n",
       "      <td>2026</td>\n",
       "      <td>2089</td>\n",
       "      <td>1797</td>\n",
       "      <td>2103</td>\n",
       "      <td>2119</td>\n",
       "      <td>2121</td>\n",
       "      <td>2231</td>\n",
       "    </tr>\n",
       "    <tr>\n",
       "      <th>MEH</th>\n",
       "      <td>105</td>\n",
       "      <td>136</td>\n",
       "      <td>204</td>\n",
       "      <td>173</td>\n",
       "      <td>238</td>\n",
       "      <td>244</td>\n",
       "      <td>104</td>\n",
       "      <td>307</td>\n",
       "      <td>310</td>\n",
       "      <td>405</td>\n",
       "      <td>...</td>\n",
       "      <td>367</td>\n",
       "      <td>188</td>\n",
       "      <td>755</td>\n",
       "      <td>350</td>\n",
       "      <td>292</td>\n",
       "      <td>588</td>\n",
       "      <td>286</td>\n",
       "      <td>276</td>\n",
       "      <td>287</td>\n",
       "      <td>212</td>\n",
       "    </tr>\n",
       "  </tbody>\n",
       "</table>\n",
       "<p>3 rows × 103 columns</p>\n",
       "</div>"
      ],
      "text/plain": [
       "         Q6 | Broken glow stick  \\\n",
       "DESPAIR                    2331   \n",
       "JOY                          24   \n",
       "MEH                         105   \n",
       "\n",
       "         Q6 | Real Housewives of Orange County Season 9 Blue-Ray  \\\n",
       "DESPAIR                                               2233         \n",
       "JOY                                                     91         \n",
       "MEH                                                    136         \n",
       "\n",
       "         Q6 | White Bread  Q6 | Kale smoothie  Q6 | Gum from baseball cards  \\\n",
       "DESPAIR              2212                2179                          2178   \n",
       "JOY                    44                 108                            44   \n",
       "MEH                   204                 173                           238   \n",
       "\n",
       "         Q6 | Dental paraphenalia  Q6 | Creepy Religious comics/Chick Tracts  \\\n",
       "DESPAIR                      2125                                       2110   \n",
       "JOY                            91                                        246   \n",
       "MEH                           244                                        104   \n",
       "\n",
       "         Q6 | Whole Wheat anything  Q6 | Spotted Dick  \\\n",
       "DESPAIR                       2036               2022   \n",
       "JOY                            117                128   \n",
       "MEH                            307                310   \n",
       "\n",
       "         Q6 | Candy that is clearly just the stuff given out for free at restaurants  \\\n",
       "DESPAIR                                               2016                             \n",
       "JOY                                                     39                             \n",
       "MEH                                                    405                             \n",
       "\n",
       "         ...  Q6 | Lindt Truffle  Q6 | Reese’s Peanut Butter Cups  \\\n",
       "DESPAIR  ...                  98                               95   \n",
       "JOY      ...                1995                             2177   \n",
       "MEH      ...                 367                              188   \n",
       "\n",
       "         Q6 | 100 Grand Bar  Q6 | Tolberone something or other  Q6 | Snickers  \\\n",
       "DESPAIR                  85                                 84             79   \n",
       "JOY                    1620                               2026           2089   \n",
       "MEH                     755                                350            292   \n",
       "\n",
       "         Q6 | Regular M&Ms  Q6 | Twix  \\\n",
       "DESPAIR                 75         71   \n",
       "JOY                   1797       2103   \n",
       "MEH                    588        286   \n",
       "\n",
       "         Q6 | Cash, or other forms of legal tender  Q6 | Kit Kat  \\\n",
       "DESPAIR                                         65            52   \n",
       "JOY                                           2119          2121   \n",
       "MEH                                            276           287   \n",
       "\n",
       "         Q6 | Any full-sized candy bar  \n",
       "DESPAIR                             17  \n",
       "JOY                               2231  \n",
       "MEH                                212  \n",
       "\n",
       "[3 rows x 103 columns]"
      ]
     },
     "execution_count": 52,
     "metadata": {},
     "output_type": "execute_result"
    }
   ],
   "source": [
    "# ordering with DESPAIR to get top 10 most hated\n",
    "classified.sort_values(by=\"DESPAIR\",axis=1,ascending=False)"
   ]
  },
  {
   "cell_type": "markdown",
   "id": "21967358",
   "metadata": {},
   "source": [
    "###### Top 10 most hated\n",
    "* Broken glow stick\n",
    "* Real Housewives of Orange County Season 9 Blue-Ray\n",
    "* White Bread\n",
    "* Kale smoothie\n",
    "* Gum from baseball cards\n",
    "* Dental paraphenalia\n",
    "* Creepy Religious comics/Chick Tracts\n",
    "* Whole Wheat anything\n",
    "* Spotted Dick\n",
    "* Candy that is clearly just the stuff given out for free at restaurants"
   ]
  }
 ],
 "metadata": {
  "kernelspec": {
   "display_name": "Python 3 (ipykernel)",
   "language": "python",
   "name": "python3"
  },
  "language_info": {
   "codemirror_mode": {
    "name": "ipython",
    "version": 3
   },
   "file_extension": ".py",
   "mimetype": "text/x-python",
   "name": "python",
   "nbconvert_exporter": "python",
   "pygments_lexer": "ipython3",
   "version": "3.9.7"
  }
 },
 "nbformat": 4,
 "nbformat_minor": 5
}
